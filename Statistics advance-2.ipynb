{
 "cells": [
  {
   "cell_type": "markdown",
   "id": "f8c1ac63-9ba3-4f27-bb60-db1cd90478d7",
   "metadata": {},
   "source": [
    "The Probability Mass Function (PMF) and Probability Density Function (PDF) are mathematical functions used to describe the probability distribution of a discrete random variable and a continuous random variable, respectively.\n",
    "\n",
    "Probability Mass Function (PMF):\n",
    "- The PMF is used for discrete random variables.\n",
    "- It gives the probability that a discrete random variable takes on a specific value.\n",
    "- For each possible value of the random variable, the PMF assigns a probability.\n",
    "- The sum of probabilities assigned by the PMF to all possible values of the random variable is equal to 1.\n",
    "\n",
    "Probability Density Function (PDF):\n",
    "- The PDF is used for continuous random variables.\n",
    "- It gives the relative likelihood that a continuous random variable falls within a particular range of values.\n",
    "- Unlike the PMF, the PDF does not give the probability of a specific value but rather the probability density at each point along the range of the variable.\n",
    "- The total area under the PDF curve equals 1.\n",
    "\n",
    "Example:\n",
    "Consider the roll of a fair six-sided die as a discrete random variable (let's call it \\( X \\)). The PMF of this random variable is given by:\n",
    "\\[ P(X = x) = \\frac{1}{6}, \\text{ for } x = 1, 2, 3, 4, 5, 6 \\]\n",
    "\n",
    "Now, let's consider the height of adult males as a continuous random variable (let's call it \\( Y \\)). Suppose the PDF of this random variable follows a normal (Gaussian) distribution with a mean of 175 cm and a standard deviation of 10 cm. The PDF of this random variable can be expressed as:\n",
    "\\[ f(y) = \\frac{1}{\\sqrt{2\\pi}\\sigma} \\exp\\left(-\\frac{(y-\\mu)^2}{2\\sigma^2}\\right) \\]\n",
    "\n",
    "In this example, the PMF assigns equal probabilities to each outcome of rolling the die, while the PDF describes the likelihood of different heights occurring in the population of adult males, with higher likelihoods near the mean height of 175 cm."
   ]
  },
  {
   "cell_type": "markdown",
   "id": "513bd404-a214-468a-bf3f-1e5d2de54a0a",
   "metadata": {},
   "source": [
    "The Cumulative Distribution Function (CDF) is a function used to describe the probability that a random variable takes on a value less than or equal to a given value. It provides a cumulative view of the probability distribution of the random variable.\n",
    "\n",
    "Mathematically, for a random variable \\( X \\), the CDF is denoted as \\( F(x) \\) and is defined as:\n",
    "\\[ F(x) = P(X \\leq x) \\]\n",
    "\n",
    "In other words, the CDF at a specific value \\( x \\) gives the probability that the random variable is less than or equal to \\( x \\).\n",
    "\n",
    "Example:\n",
    "Let's consider the roll of a fair six-sided die. The CDF of this discrete random variable (let's call it \\( X \\)) is given by:\n",
    "\\[ F(x) = \\begin{cases} \n",
    "0 & \\text{for } x < 1 \\\\\n",
    "\\frac{1}{6} & \\text{for } 1 \\leq x < 2 \\\\\n",
    "\\frac{1}{3} & \\text{for } 2 \\leq x < 3 \\\\\n",
    "\\frac{1}{2} & \\text{for } 3 \\leq x < 4 \\\\\n",
    "\\frac{2}{3} & \\text{for } 4 \\leq x < 5 \\\\\n",
    "\\frac{5}{6} & \\text{for } 5 \\leq x < 6 \\\\\n",
    "1 & \\text{for } x \\geq 6 \n",
    "\\end{cases} \\]\n",
    "\n",
    "Here, \\( F(x) \\) represents the probability of rolling a number less than or equal to \\( x \\). For example, \\( F(3) = \\frac{1}{2} \\) indicates that there is a 50% chance of rolling a number less than or equal to 3 on the die.\n",
    "\n",
    "Why CDF is used:\n",
    "1. Ease of Interpretation: The CDF provides a straightforward way to interpret the probability distribution of a random variable. By knowing the CDF, one can easily determine probabilities associated with various intervals of values.\n",
    "  \n",
    "2. Calculating Probabilities: The CDF can be used to calculate probabilities for events involving the random variable. For example, the probability of \\( X \\) falling within a certain range can be calculated by subtracting the CDF values at the lower and upper bounds of the range.\n",
    "\n",
    "3. Comparing Distributions: Comparing CDFs of different random variables or distributions can help understand how they differ in terms of their probability distribution and cumulative probabilities.\n",
    "\n",
    "Overall, the Cumulative Distribution Function is a valuable tool in probability theory and statistics for understanding and analyzing the behavior of random variables and probability distributions."
   ]
  },
  {
   "cell_type": "markdown",
   "id": "4991d899-a205-49da-84b0-5cdd8e707883",
   "metadata": {},
   "source": [
    "The normal distribution, also known as the Gaussian distribution, is widely used to model a variety of phenomena in various fields due to its flexibility and applicability to a wide range of situations. Some examples of situations where the normal distribution might be used as a model include:\n",
    "\n",
    "1. Height of Individuals: The heights of adult humans often follow a roughly normal distribution. While there may be slight deviations due to factors like gender and ethnicity, the overall distribution tends to be approximately bell-shaped.\n",
    "\n",
    "2. IQ Scores: IQ scores are often assumed to follow a normal distribution with a mean of 100 and a standard deviation of 15. This assumption allows for easy interpretation and comparison of scores.\n",
    "\n",
    "3. Measurement Errors: Measurement errors in scientific experiments or manufacturing processes often follow a normal distribution. This is especially true when multiple sources of error contribute to the measurement.\n",
    "\n",
    "4. Financial Returns: Daily changes in stock prices or financial returns are often assumed to be normally distributed, particularly when considering large portfolios or well-diversified investments.\n",
    "\n",
    "5. Test Scores: Scores on standardized tests, such as SAT or GRE, are often assumed to be normally distributed among test-takers, especially when the test is designed to be representative of a broad population.\n",
    "\n",
    "The parameters of the normal distribution are the mean (\\( \\mu \\)) and the standard deviation (\\( \\sigma \\)). These parameters determine the location and spread of the distribution, respectively, and they directly influence the shape of the distribution:\n",
    "\n",
    "1. Mean (\\( \\mu \\)): The mean determines the center of the distribution. It represents the average value around which the data is centered. Shifting the mean to the right (increasing \\( \\mu \\)) moves the distribution to the right along the x-axis, while shifting the mean to the left (decreasing \\( \\mu \\)) moves the distribution to the left.\n",
    "\n",
    "2. Standard Deviation (\\( \\sigma \\)): The standard deviation determines the spread or dispersion of the distribution. A larger standard deviation results in a wider distribution, with more spread-out data points. Conversely, a smaller standard deviation results in a narrower distribution, with data points clustered closer to the mean.\n",
    "\n",
    "In summary, the parameters of the normal distribution control the center and spread of the distribution, and by adjusting these parameters, we can model a wide variety of real-world phenomena that exhibit normal-like behavior."
   ]
  },
  {
   "cell_type": "markdown",
   "id": "b7921986-8afb-43f7-9ece-c0892be5a2d3",
   "metadata": {},
   "source": [
    "The normal distribution, also known as the Gaussian distribution, holds significant importance in various fields due to several reasons:\n",
    "\n",
    "1. Commonality in Nature: Many natural processes and phenomena tend to follow a normal distribution. This makes the normal distribution a natural choice for modeling real-world data in many situations.\n",
    "\n",
    "2. Central Limit Theorem: The normal distribution emerges as a limiting case of the sum of a large number of independent and identically distributed random variables, according to the Central Limit Theorem. This theorem states that regardless of the underlying distribution of the individual random variables, their sum tends to follow a normal distribution as the sample size increases. This property makes the normal distribution a fundamental concept in statistical inference and hypothesis testing.\n",
    "\n",
    "3. Ease of Interpretation: The properties of the normal distribution are well-understood and widely studied. Its bell-shaped curve allows for easy interpretation and comparison of data. Parameters such as the mean and standard deviation provide concise summaries of the distribution's characteristics.\n",
    "\n",
    "Examples of real-life situations where the normal distribution is commonly observed include:\n",
    "\n",
    "1. Height of Individuals: Heights of adult humans often follow a normal distribution. While there may be variations due to factors like gender and ethnicity, the overall distribution tends to be bell-shaped.\n",
    "\n",
    "2. IQ Scores: IQ scores are often assumed to follow a normal distribution with a mean of 100 and a standard deviation of 15. This assumption facilitates the interpretation and comparison of intelligence scores.\n",
    "\n",
    "3. Measurement Errors: Measurement errors in scientific experiments or manufacturing processes often follow a normal distribution. This is especially true when multiple sources of error contribute to the measurement.\n",
    "\n",
    "4. Financial Returns: Daily changes in stock prices or financial returns are often assumed to be normally distributed, particularly when considering large portfolios or well-diversified investments. This assumption underlies many financial models and risk management strategies.\n",
    "\n",
    "5. Test Scores: Scores on standardized tests, such as SAT or GRE, are often assumed to be normally distributed among test-takers. This assumption simplifies the analysis and interpretation of test results.\n",
    "\n",
    "In summary, the normal distribution plays a crucial role in statistics, data analysis, and modeling, due to its widespread occurrence in nature, its importance in statistical theory, and its ease of interpretation."
   ]
  },
  {
   "cell_type": "markdown",
   "id": "61142516-7541-4075-b513-85e584f0099f",
   "metadata": {},
   "source": [
    "The Bernoulli distribution is a discrete probability distribution that represents the outcome of a single Bernoulli trial, which is an experiment with only two possible outcomes: success (usually denoted as 1) and failure (usually denoted as 0). The distribution is named after the Swiss mathematician Jacob Bernoulli.\n",
    "\n",
    "Probability Mass Function (PMF):\n",
    "The PMF of a Bernoulli distribution is given by:\n",
    "\\[ P(X = x) = \\begin{cases} \n",
    "p & \\text{if } x = 1 \\\\\n",
    "1-p & \\text{if } x = 0 \n",
    "\\end{cases} \\]\n",
    "where \\( p \\) is the probability of success and \\( 1-p \\) is the probability of failure.\n",
    "\n",
    "Example:\n",
    "Consider a single toss of a biased coin where the probability of getting heads (success) is \\( p = 0.6 \\). The outcome of this experiment follows a Bernoulli distribution. If \\( X \\) represents the outcome of the toss, then \\( X \\) follows a Bernoulli distribution with parameter \\( p = 0.6 \\).\n",
    "\n",
    "Difference between Bernoulli and Binomial Distributions:\n",
    "1. Number of Trials:\n",
    "   - Bernoulli Distribution: Represents the outcome of a single Bernoulli trial (a single experiment with two possible outcomes).\n",
    "   - Binomial Distribution: Represents the number of successes in a fixed number of independent Bernoulli trials (multiple experiments, each with two possible outcomes), denoted as \\( n \\).\n",
    "\n",
    "2. Random Variable:\n",
    "   - Bernoulli Distribution: Has only one possible outcome (success or failure), represented by a single random variable \\( X \\).\n",
    "   - Binomial Distribution: Represents the count of successes in \\( n \\) independent Bernoulli trials, which can take multiple values (0, 1, 2, ..., \\( n \\)), represented by the random variable \\( Y \\).\n",
    "\n",
    "3. Probability Mass Function (PMF):\n",
    "   - Bernoulli Distribution: The PMF specifies the probability of a single outcome (success or failure).\n",
    "   - Binomial Distribution: The PMF specifies the probability of each possible count of successes in \\( n \\) trials.\n",
    "\n",
    "In summary, while both Bernoulli and binomial distributions deal with experiments having two possible outcomes, the Bernoulli distribution models a single trial, while the binomial distribution models the number of successes in multiple independent trials."
   ]
  },
  {
   "cell_type": "markdown",
   "id": "ede27e0c-e110-4a60-89ac-77081a74c86a",
   "metadata": {},
   "source": [
    "To find the probability that a randomly selected observation from a normally distributed dataset with a mean of 50 and a standard deviation of 10 will be greater than 60, we can use the standard normal distribution (with mean 0 and standard deviation 1) and then transform the values back to the original distribution using the Z-score formula.\n",
    "\n",
    "First, we need to calculate the Z-score for \\( x = 60 \\) using the formula:\n",
    "\\[ Z = \\frac{x - \\mu}{\\sigma} \\]\n",
    "where:\n",
    "- \\( x \\) is the value (60 in this case),\n",
    "- \\( \\mu \\) is the mean (50 in this case), and\n",
    "- \\( \\sigma \\) is the standard deviation (10 in this case).\n",
    "\n",
    "\\[ Z = \\frac{60 - 50}{10} = \\frac{10}{10} = 1 \\]\n",
    "\n",
    "Now, we look up the probability corresponding to \\( Z = 1 \\) in the standard normal distribution table or use a calculator. From the standard normal distribution table, we find that the probability corresponding to \\( Z = 1 \\) is approximately 0.8413.\n",
    "\n",
    "This means that the probability that a randomly selected observation from the dataset will be greater than 60 is approximately 0.8413, or 84.13%."
   ]
  },
  {
   "cell_type": "markdown",
   "id": "703610ba-a2ef-4967-b4a6-d36cede35553",
   "metadata": {},
   "source": [
    "A uniform distribution is a probability distribution where every possible outcome has an equal chance of occurring. \n",
    "\n",
    "For example, let's consider rolling a fair six-sided die. Each face of the die has an equal probability of 1/6 of landing face up when rolled. This means that the probability of rolling any particular number (1, 2, 3, 4, 5, or 6) is the same, and hence it follows a uniform distribution."
   ]
  },
  {
   "cell_type": "markdown",
   "id": "a7856aa2-a4f1-46fa-bfe9-920b2cc8afbf",
   "metadata": {},
   "source": []
  }
 ],
 "metadata": {
  "kernelspec": {
   "display_name": "Python 3 (ipykernel)",
   "language": "python",
   "name": "python3"
  },
  "language_info": {
   "codemirror_mode": {
    "name": "ipython",
    "version": 3
   },
   "file_extension": ".py",
   "mimetype": "text/x-python",
   "name": "python",
   "nbconvert_exporter": "python",
   "pygments_lexer": "ipython3",
   "version": "3.10.8"
  }
 },
 "nbformat": 4,
 "nbformat_minor": 5
}
